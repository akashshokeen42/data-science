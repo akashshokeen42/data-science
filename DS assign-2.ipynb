{
 "cells": [
  {
   "cell_type": "raw",
   "id": "3fc6eea4-aeb1-4bc1-9466-57f175b7aeda",
   "metadata": {},
   "source": [
    "Ques-1\n",
    "There are three types of comments in Python:\n",
    "Single line Comments\n",
    "Multiline Comments\n",
    "String Literals"
   ]
  },
  {
   "cell_type": "code",
   "execution_count": null,
   "id": "427b4267-5bbf-4fde-a46d-af11d46d2e75",
   "metadata": {},
   "outputs": [],
   "source": [
    "Ques-2\n",
    "In Python, variables are used to store data that can be referenced and manipulated throughout your program. A variable essentially acts as a label for a value.\n",
    "Unlike some other programming languages, Python does not require you to declare the type of a variable explicitly; it is dynamically typed, meaning the \n",
    "type is inferred from the value assigned to it."
   ]
  },
  {
   "cell_type": "code",
   "execution_count": null,
   "id": "adb59e46-9899-4b83-a571-c1fefcb511fe",
   "metadata": {},
   "outputs": [],
   "source": [
    "Ques-3\n",
    "In Python, converting one data type to another is commonly done using type conversion functions. Python provides several built-in functions for this \n",
    "purpose, allowing you to convert between types like integers, floats, strings, and more."
   ]
  },
  {
   "cell_type": "code",
   "execution_count": null,
   "id": "d92ee54e-d4f3-4c97-b451-bad88dee90fb",
   "metadata": {},
   "outputs": [],
   "source": [
    "Ques-4\n",
    "Write your Python code and save it in a .py file.\n",
    "Open your command line interface and navigate to the directory containing your script.\n",
    "Execute the script using python script.py or python3 script.py depending on your Python version."
   ]
  },
  {
   "cell_type": "code",
   "execution_count": null,
   "id": "a4567fe1-0cdd-4760-bee6-9d9ed65ff889",
   "metadata": {},
   "outputs": [],
   "source": [
    "ques-5\n",
    "my_list = [1, 2, 3, 4, 5]\n",
    "\n",
    "# Slice the list to get the sub-list [2, 3]\n",
    "sub_list = my_list[1:3]\n",
    "\n",
    "print(sub_list)  # Output: [2, 3]"
   ]
  },
  {
   "cell_type": "code",
   "execution_count": null,
   "id": "14273b5d-5b3a-45fe-83d6-2e1f89f4fd84",
   "metadata": {},
   "outputs": [],
   "source": [
    "ques-6\n",
    "Complex Number: Defined as \n",
    "z=a+bi, a and b are real numbers, and i is the imaginary unit.\n",
    "Python Representation: Complex numbers are represented using a + bj notation, where j is the imaginary unit."
   ]
  },
  {
   "cell_type": "code",
   "execution_count": null,
   "id": "c01fddbd-0b73-43c1-9935-5b676d6fac1e",
   "metadata": {},
   "outputs": [],
   "source": [
    "Ques-7\n",
    "age = 25"
   ]
  },
  {
   "cell_type": "code",
   "execution_count": null,
   "id": "c3194316-4b08-4ccd-b4f0-17a917999e31",
   "metadata": {},
   "outputs": [],
   "source": [
    "ques-8\n",
    "Variable Declaration: price = 9.99\n",
    "Data Type: float"
   ]
  },
  {
   "cell_type": "code",
   "execution_count": null,
   "id": "d31235f2-8ff9-4bcf-8708-79a127c12763",
   "metadata": {},
   "outputs": [],
   "source": [
    "ques-9\n",
    "Variable Declaration: name = \"Your Full Name\"\n",
    "Printing the Value: Use print(name) to display the value of the variable."
   ]
  },
  {
   "cell_type": "code",
   "execution_count": null,
   "id": "691e9471-97bd-4cd0-9baa-ba340d5cf307",
   "metadata": {},
   "outputs": [],
   "source": [
    "ques-10\n",
    "# Original string\n",
    "text = \"Hello, World!\"\n",
    "\n",
    "# Extract the substring \"World\"\n",
    "substring = text[7:12]\n",
    "\n",
    "# Print the result\n",
    "print(substring)  # Output: World\n"
   ]
  },
  {
   "cell_type": "code",
   "execution_count": null,
   "id": "939efb94-2e67-4009-b8b3-73239e3ae9cd",
   "metadata": {},
   "outputs": [],
   "source": [
    "ques-11\n",
    "is_student = True  # Set this to True if you are a student, False otherwise"
   ]
  }
 ],
 "metadata": {
  "kernelspec": {
   "display_name": "Python 3 (ipykernel)",
   "language": "python",
   "name": "python3"
  },
  "language_info": {
   "codemirror_mode": {
    "name": "ipython",
    "version": 3
   },
   "file_extension": ".py",
   "mimetype": "text/x-python",
   "name": "python",
   "nbconvert_exporter": "python",
   "pygments_lexer": "ipython3",
   "version": "3.10.8"
  }
 },
 "nbformat": 4,
 "nbformat_minor": 5
}
