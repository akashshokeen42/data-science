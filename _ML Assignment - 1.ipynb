{
 "cells": [
  {
   "cell_type": "code",
   "execution_count": null,
   "id": "93303540-9f52-4003-8d40-bc7aa0d420c1",
   "metadata": {},
   "outputs": [],
   "source": [
    "Ques-1\n",
    "1.Artificial intelligence-AI is when computers are programmed to think and learn like humans, allowing them to do\n",
    "things that usually need a human brain.\n",
    "2.Machine Learning-Machine learning is a type of artificial intelligence where computers learn from data and experience\n",
    "instead of being explicitly programmed to perform specific tasks.\n",
    "3.deep learning-Deep learning is a subset of machine learning that uses specialized algorithms called neural networks,\n",
    "which are inspired by the structure of the human brain. These neural networks consist of many interconnected layers that\n",
    "can process vast amounts of data to recognize complex patterns"
   ]
  },
  {
   "cell_type": "code",
   "execution_count": null,
   "id": "f718e9ae-3341-4a2b-a7f4-ec3c8c5bdcf5",
   "metadata": {},
   "outputs": [],
   "source": [
    "Ques-2\n",
    "Supervised learning is a type of machine learning where the model is trained on a labeled dataset. This means that for every \n",
    "input, the model knows the correct output in advance. \n",
    "examples are spam detection,image classification.\n"
   ]
  },
  {
   "cell_type": "code",
   "execution_count": null,
   "id": "6d9b20dd-d87c-41eb-8af3-a2dc07778c26",
   "metadata": {},
   "outputs": [],
   "source": [
    "Ques-3\n",
    "Unsupervised learning is a type of machine learning where the model is trained on a dataset without labeled outputs. Unlike supervised\n",
    "learning, where the correct answers are known, unsupervised learning algorithms try to find hidden patterns or relationships in the data on their own.\n",
    "examples are clustering and dimensionality reduction."
   ]
  },
  {
   "cell_type": "code",
   "execution_count": null,
   "id": "dc029b43-b8c4-4880-acec-dba8ec04631a",
   "metadata": {},
   "outputs": [],
   "source": [
    "Ques-4\n",
    "AI: The overarching field focused on creating intelligent machines.\n",
    "ML: A subset of AI that teaches machines to learn from data.\n",
    "DL: A more specific subset of ML that uses deep neural networks to handle complex tasks.\n",
    "DS: The broader field of analyzing and interpreting data, which may use AI, ML, and DL as tools.\n"
   ]
  },
  {
   "cell_type": "code",
   "execution_count": null,
   "id": "33f40cc2-240a-470b-ad54-281adba76281",
   "metadata": {},
   "outputs": [],
   "source": [
    "Ques-5\n",
    "Supervised Learning:\n",
    "Data: Labeled\n",
    "Goal: Learn to map inputs to known outputs\n",
    "Examples: Classification, regression\n",
    "\n",
    "Unsupervised Learning:\n",
    "Data: Unlabeled\n",
    "Goal: Discover patterns or structures in data\n",
    "Examples: Clustering, dimensionality reduction\n",
    "\n",
    "Semi-Supervised Learning:\n",
    "Data: Both labeled and unlabeled\n",
    "Goal: Improve learning performance with a combination of labeled and unlabeled data\n",
    "Examples: Text or image classification with limited labeled data"
   ]
  },
  {
   "cell_type": "code",
   "execution_count": null,
   "id": "64dda75b-0eae-41c2-9213-d93a35935aee",
   "metadata": {},
   "outputs": [],
   "source": [
    "Ques-6\n",
    "Training Set: Used to train the model.\n",
    "Validation Set: Used to tune hyperparameters and validate model performance during training.\n",
    "Test Set: Used to evaluate the final model’s performance on new data."
   ]
  },
  {
   "cell_type": "code",
   "execution_count": null,
   "id": "790b8c5e-1ffc-4d6c-9bcf-02e6ac740c37",
   "metadata": {},
   "outputs": [],
   "source": [
    "Ques-7\n",
    "Supervised learning for anomaly detection involves training a model on labeled data to distinguish between normal and anomalous instances.\n",
    "Preparation includes labeling data and splitting it into training, validation, and test sets.\n",
    "Training involves using classification algorithms to learn patterns of normal and anomalous behavior.\n",
    "Validation and testing ensure the model’s effectiveness and ability to generalize.\n",
    "Deployment allows for real-time anomaly detection and continuous improvement."
   ]
  },
  {
   "cell_type": "code",
   "execution_count": null,
   "id": "20de3478-fdaa-4b7e-86e8-1c3e93544683",
   "metadata": {},
   "outputs": [],
   "source": [
    "Ques-8\n",
    "supervised algorithms are linear regression, logistic regression, decision trees , random forest etc\n",
    "unsupervised algorithms are k-means clustering, DBSCAN, Hierarchical clustering etc.\n"
   ]
  }
 ],
 "metadata": {
  "kernelspec": {
   "display_name": "Python 3 (ipykernel)",
   "language": "python",
   "name": "python3"
  },
  "language_info": {
   "codemirror_mode": {
    "name": "ipython",
    "version": 3
   },
   "file_extension": ".py",
   "mimetype": "text/x-python",
   "name": "python",
   "nbconvert_exporter": "python",
   "pygments_lexer": "ipython3",
   "version": "3.10.8"
  }
 },
 "nbformat": 4,
 "nbformat_minor": 5
}
